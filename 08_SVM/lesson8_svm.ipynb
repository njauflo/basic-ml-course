{
 "cells": [
  {
   "cell_type": "code",
   "execution_count": null,
   "metadata": {
    "id": "5Rgz4XEHXxw6"
   },
   "outputs": [],
   "source": [
    "### NOTE: this notebook is from https://machinelearningcoban.com/2017/04/09/smv/"
   ]
  },
  {
   "cell_type": "code",
   "execution_count": null,
   "metadata": {
    "id": "cd2KgrSPP8Rh"
   },
   "outputs": [],
   "source": [
    "import numpy as np \n",
    "import matplotlib.pyplot as plt\n",
    "\n",
    "# Compute distance between each pair of the two collections of inputs\n",
    "from scipy.spatial.distance import cdist\n",
    "np.random.seed(1)"
   ]
  },
  {
   "cell_type": "code",
   "execution_count": null,
   "metadata": {
    "id": "bBE6eI2sXvl-"
   },
   "outputs": [],
   "source": [
    "means = [[1, 1], [5, 4]]\n",
    "cov = [[.5, .3], [.3, .5]]\n",
    "N = 20\n",
    "X0 = np.random.multivariate_normal(means[0], cov, N)\n",
    "X1 = np.random.multivariate_normal(means[1], cov, N)\n",
    "X = np.vstack((X0, X1)).T\n",
    "y = np.hstack((np.ones((1, N)), -1*np.ones((1, N))))"
   ]
  },
  {
   "cell_type": "markdown",
   "metadata": {
    "id": "8xIebRWVICUe"
   },
   "source": [
    "### SVM Primal problem:\n",
    "$$\\begin{array}{c}\n",
    "\\min _{w, b} \\frac{1}{2}|| w||^{2} \\\\\n",
    "y_{i}\\left(w^\\top x_{i}+b\\right) \\geq 1\\; \\forall i\n",
    "\\end{array}$$\n",
    "\n",
    "\n",
    "### Lagrangian:\n",
    "$$\\mathcal{L}(w, b, \\alpha)=\\frac{1}{2} \\Vert w \\Vert ^{2}-\\sum_{i} \\alpha_{i}\\left[y_{i}\\left(w^\\top x_{i}+b\\right)-1\\right]$$\n",
    "where $\\alpha_i \\geq 0$ is the Lagrangian multiplier.\n",
    "\n",
    "\n",
    "### Lagrange dual function:\n",
    "$$g(\\alpha) = \\sum_i \\alpha_i - \\frac{1}{2}\\sum_{ij} \\alpha_i \\alpha_j y_i y_j x_i^\\top x_j$$\n",
    "with $\\sum_i \\alpha_i y_i = 0 \\text{,}\\space \\alpha_i \\geq 0$.\n",
    "\n",
    "\n",
    "Let:\n",
    "\n",
    "$\\mathbf{V}=\\left[y_{1} x_{1}, y_{2} x_{2}, \\ldots, y_{N} x_{N}\\right]$,\n",
    "\n",
    "$\\mathbf{1}=[1,1, \\ldots, 1]^\\top$,\n",
    "\n",
    "$\\mathbf{K} = \\mathbf{V}^\\top \\mathbf{V}$,\n",
    "\n",
    "$$\\Rightarrow g(\\alpha)=-\\frac{1}{2} \\alpha^\\top \\mathbf{K} \\alpha+\\mathbf{1}^\\top \\alpha$$\n",
    "\n"
   ]
  },
  {
   "cell_type": "code",
   "execution_count": null,
   "metadata": {
    "id": "z-5n5wt5jS8V"
   },
   "outputs": [],
   "source": [
    "#solving the problem\n",
    "from cvxopt import matrix, solvers\n",
    "# build V\n",
    "# your code is here \n",
    "V = \n",
    "##########\n",
    "\n",
    "# your code is here\n",
    "K = \n",
    "##########\n",
    "\n",
    "p = matrix(-np.ones((2*N, 1))) # all-one vector \n",
    "# build A, b, G, h \n",
    "G = matrix(-np.eye(2*N)) # for all lambda_n >= 0\n",
    "h = matrix(np.zeros((2*N, 1)))\n",
    "A = matrix(y) # the equality constrain is actually y^T lambda = 0\n",
    "b = matrix(np.zeros((1, 1))) \n",
    "\n",
    "\n",
    "solvers.options['show_progress'] = False\n",
    "sol = solvers.qp(K, p, G, h, A, b)\n",
    "\n",
    "alpha = np.array(sol['x'])"
   ]
  },
  {
   "cell_type": "markdown",
   "metadata": {
    "id": "uZ9VAdCHR1j1"
   },
   "source": [
    "Support vectors are positive solutions ($\\alpha > 0$) of the Lagrange dual function.\n",
    "\n",
    "$w$ and $b$ can be calculated from support vector set $\\mathcal{S}$:\n",
    "\n",
    "$$w=\\sum_{m \\in \\mathcal{S}} \\alpha_{m} y_{m} x_{m}$$\n",
    "\n",
    "$$b=\\frac{1}{N_{\\mathcal{S}}} \\sum_{n \\in \\mathcal{S}}\\left(y_{n}-w^\\top x_{n}\\right)$$\n",
    "where  $N_{\\mathcal{S}}$ is the number of support vectors.\n"
   ]
  },
  {
   "cell_type": "code",
   "execution_count": null,
   "metadata": {
    "id": "cqm2RjQBXJ1I"
   },
   "outputs": [],
   "source": [
    "# Finding support vector\n",
    "epsilon = 1e-5 # just a small number, greater than 1e-9\n",
    "S = np.where(alpha > epsilon)[0]\n",
    "alphaS = alpha[S]"
   ]
  },
  {
   "cell_type": "code",
   "execution_count": null,
   "metadata": {
    "id": "1nF0jQ2IZQTH"
   },
   "outputs": [],
   "source": [
    "alphaS"
   ]
  },
  {
   "cell_type": "code",
   "execution_count": null,
   "metadata": {
    "id": "Hyvv9f_hzHl6"
   },
   "outputs": [],
   "source": [
    "VS = V[:, S]\n",
    "XS = X[:, S]\n",
    "yS = y[:, S]\n",
    "# calculate w and b\n",
    "### your code is here\n",
    "w = \n",
    "b = \n",
    "###########\n",
    "\n",
    "\n",
    "print('w = ', w.T)\n",
    "print('b = ', b)"
   ]
  },
  {
   "cell_type": "code",
   "execution_count": null,
   "metadata": {
    "id": "CQJozTzFzLah"
   },
   "outputs": [],
   "source": [
    "def plot(w, b, X0, X1, X, S):\n",
    "  fig, ax = plt.subplots(figsize=(10,10))\n",
    "  x1 = np.arange(-10, 10, 0.1)\n",
    "  y1 = -w[0, 0]/w[1, 0]*x1 - b/w[1, 0]\n",
    "  y2 = -w[0, 0]/w[1, 0]*x1 - (b-1)/w[1, 0]\n",
    "  y3 = -w[0, 0]/w[1, 0]*x1 - (b+1)/w[1, 0]\n",
    "  plt.plot(x1, y1, 'k', linewidth = 3)\n",
    "  plt.plot(x1, y2, 'k')\n",
    "  plt.plot(x1, y3, 'k')\n",
    "\n",
    "\n",
    "  # y4 = 10*x1\n",
    "  # plt.plot(x1, y1, 'k')\n",
    "  # plt.fill_between(x1, y1, color='red', alpha=0.1)\n",
    "  # plt.fill_between(x1, y1, y4, color = 'blue', alpha = .1)\n",
    "\n",
    "\n",
    "  plt.plot(X0[:, 0], X0[:, 1], 'bs', markersize = 8, alpha = .8)\n",
    "  plt.plot(X1[:, 0], X1[:, 1], 'ro', markersize = 8, alpha = .8)\n",
    "\n",
    "  plt.axis('equal')\n",
    "  plt.ylim(np.min(X[1, :])*1.05, np.max(X[1, :])*1.05)\n",
    "  plt.xlim(np.min(X[0, :])*1.05, np.max(X[0, :])*1.05)\n",
    "\n",
    "  # hide tikcs \n",
    "  cur_axes = plt.gca()\n",
    "  cur_axes.axes.get_xaxis().set_ticks([])\n",
    "  cur_axes.axes.get_yaxis().set_ticks([])\n",
    "\n",
    "  # add circles around support vectors \n",
    "  for m in S:\n",
    "      circle = plt.Circle((X[0, m], X[1, m] ), 0.1, color='k', fill = False)\n",
    "      ax.add_artist(circle)\n",
    "\n",
    "\n",
    "  plt.xlabel('$x_1$', fontsize = 20)\n",
    "  plt.ylabel('$x_2$', fontsize = 20)\n",
    "  plt.show()\n",
    "plot(w, b, X0, X1, X, S)"
   ]
  }
 ],
 "metadata": {
  "colab": {
   "collapsed_sections": [],
   "name": "lecture08_svm.ipynb",
   "provenance": []
  },
  "kernelspec": {
   "display_name": "Python 3",
   "language": "python",
   "name": "python3"
  },
  "language_info": {
   "codemirror_mode": {
    "name": "ipython",
    "version": 3
   },
   "file_extension": ".py",
   "mimetype": "text/x-python",
   "name": "python",
   "nbconvert_exporter": "python",
   "pygments_lexer": "ipython3",
   "version": "3.7.6"
  }
 },
 "nbformat": 4,
 "nbformat_minor": 1
}
